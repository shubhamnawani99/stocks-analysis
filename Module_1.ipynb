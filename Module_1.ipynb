{
  "nbformat": 4,
  "nbformat_minor": 0,
  "metadata": {
    "colab": {
      "name": "Module 1.ipynb",
      "provenance": [],
      "collapsed_sections": [],
      "authorship_tag": "ABX9TyM9ojLZOkH7IBPs6KqEHo6I",
      "include_colab_link": true
    },
    "kernelspec": {
      "name": "python3",
      "display_name": "Python 3"
    }
  },
  "cells": [
    {
      "cell_type": "markdown",
      "metadata": {
        "id": "view-in-github",
        "colab_type": "text"
      },
      "source": [
        "<a href=\"https://colab.research.google.com/github/shubhamnawani99/stocks-analysis/blob/master/Module_1.ipynb\" target=\"_parent\"><img src=\"https://colab.research.google.com/assets/colab-badge.svg\" alt=\"Open In Colab\"/></a>"
      ]
    },
    {
      "cell_type": "code",
      "metadata": {
        "id": "XZhocdPFNRR-",
        "colab_type": "code",
        "colab": {}
      },
      "source": [
        "#1.1 Importing the csv file of the stock you have been allotted using 'pd.read_csv()' function into a dataframe.\n",
        "#import the necessary files\n",
        "import pandas as pd\n",
        "import numpy as np"
      ],
      "execution_count": 0,
      "outputs": []
    },
    {
      "cell_type": "code",
      "metadata": {
        "id": "TloNzihbOLda",
        "colab_type": "code",
        "outputId": "2dbc8a07-2892-4960-8672-dee31bb635ce",
        "colab": {
          "base_uri": "https://localhost:8080/",
          "height": 204
        }
      },
      "source": [
        "#path for the given .csv file\n",
        "path = 'https://raw.githubusercontent.com/shubhamnawani99/stocks-analysis/master/INTC.csv'\n",
        "\n",
        "#No 'Series' column in the chosen shares file, thus no need for pre-processing\n",
        "#stocks = stocks[stocks.Series == 'EQ']\n",
        "\n",
        "#defining the dataframe\n",
        "stocks = pd.read_csv(path)\n",
        "stocks.head()\n",
        "\n",
        "#stocks.describe()\n",
        "#stocks.tail()"
      ],
      "execution_count": 2,
      "outputs": [
        {
          "output_type": "execute_result",
          "data": {
            "text/html": [
              "<div>\n",
              "<style scoped>\n",
              "    .dataframe tbody tr th:only-of-type {\n",
              "        vertical-align: middle;\n",
              "    }\n",
              "\n",
              "    .dataframe tbody tr th {\n",
              "        vertical-align: top;\n",
              "    }\n",
              "\n",
              "    .dataframe thead th {\n",
              "        text-align: right;\n",
              "    }\n",
              "</style>\n",
              "<table border=\"1\" class=\"dataframe\">\n",
              "  <thead>\n",
              "    <tr style=\"text-align: right;\">\n",
              "      <th></th>\n",
              "      <th>Date</th>\n",
              "      <th>Close Price</th>\n",
              "      <th>Open Price</th>\n",
              "      <th>High Price</th>\n",
              "      <th>Low Price</th>\n",
              "      <th>Total Traded Quantity</th>\n",
              "    </tr>\n",
              "  </thead>\n",
              "  <tbody>\n",
              "    <tr>\n",
              "      <th>0</th>\n",
              "      <td>Oct 24, 2019</td>\n",
              "      <td>52.23</td>\n",
              "      <td>52.11</td>\n",
              "      <td>52.42</td>\n",
              "      <td>51.44</td>\n",
              "      <td>25.65M</td>\n",
              "    </tr>\n",
              "    <tr>\n",
              "      <th>1</th>\n",
              "      <td>Oct 23, 2019</td>\n",
              "      <td>51.72</td>\n",
              "      <td>51.37</td>\n",
              "      <td>51.96</td>\n",
              "      <td>51.20</td>\n",
              "      <td>15.96M</td>\n",
              "    </tr>\n",
              "    <tr>\n",
              "      <th>2</th>\n",
              "      <td>Oct 22, 2019</td>\n",
              "      <td>52.01</td>\n",
              "      <td>51.90</td>\n",
              "      <td>52.32</td>\n",
              "      <td>51.89</td>\n",
              "      <td>13.35M</td>\n",
              "    </tr>\n",
              "    <tr>\n",
              "      <th>3</th>\n",
              "      <td>Oct 21, 2019</td>\n",
              "      <td>52.13</td>\n",
              "      <td>51.52</td>\n",
              "      <td>52.17</td>\n",
              "      <td>51.34</td>\n",
              "      <td>13.12M</td>\n",
              "    </tr>\n",
              "    <tr>\n",
              "      <th>4</th>\n",
              "      <td>Oct 18, 2019</td>\n",
              "      <td>51.36</td>\n",
              "      <td>51.75</td>\n",
              "      <td>51.82</td>\n",
              "      <td>51.03</td>\n",
              "      <td>16.98M</td>\n",
              "    </tr>\n",
              "  </tbody>\n",
              "</table>\n",
              "</div>"
            ],
            "text/plain": [
              "           Date  Close Price  ...  Low Price  Total Traded Quantity\n",
              "0  Oct 24, 2019        52.23  ...      51.44                 25.65M\n",
              "1  Oct 23, 2019        51.72  ...      51.20                 15.96M\n",
              "2  Oct 22, 2019        52.01  ...      51.89                 13.35M\n",
              "3  Oct 21, 2019        52.13  ...      51.34                 13.12M\n",
              "4  Oct 18, 2019        51.36  ...      51.03                 16.98M\n",
              "\n",
              "[5 rows x 6 columns]"
            ]
          },
          "metadata": {
            "tags": []
          },
          "execution_count": 2
        }
      ]
    },
    {
      "cell_type": "code",
      "metadata": {
        "id": "fRzTg5VHPcHK",
        "colab_type": "code",
        "outputId": "967a3c53-6131-4e05-cf02-acee10e77b60",
        "colab": {
          "base_uri": "https://localhost:8080/",
          "height": 34
        }
      },
      "source": [
        "#1.2 Calculate the maximum, minimum and mean price for the last 90 days\n",
        "#Using loc[] and summary funcations - max(), min() and mean() to calculate the max, min and mean of the closing price for the last 90 days\n",
        "\n",
        "values = {'Max':stocks.loc[:89,'Close Price'].max(),'Min':stocks.loc[:89,'Close Price'].min(),'Mean':stocks.loc[:89,'Close Price'].mean()}\n",
        "values"
      ],
      "execution_count": 3,
      "outputs": [
        {
          "output_type": "execute_result",
          "data": {
            "text/plain": [
              "{'Max': 53.01, 'Mean': 49.44277777777777, 'Min': 44.96}"
            ]
          },
          "metadata": {
            "tags": []
          },
          "execution_count": 3
        }
      ]
    },
    {
      "cell_type": "code",
      "metadata": {
        "id": "OcGkJw_UqkDs",
        "colab_type": "code",
        "outputId": "faf8746b-c401-4138-e20b-3db26152377b",
        "colab": {
          "base_uri": "https://localhost:8080/",
          "height": 136
        }
      },
      "source": [
        "#1.3 Analyse the data types for each column of the Stocks dataframe\n",
        "stocks.dtypes"
      ],
      "execution_count": 4,
      "outputs": [
        {
          "output_type": "execute_result",
          "data": {
            "text/plain": [
              "Date                      object\n",
              "Close Price              float64\n",
              "Open Price               float64\n",
              "High Price               float64\n",
              "Low Price                float64\n",
              "Total Traded Quantity     object\n",
              "dtype: object"
            ]
          },
          "metadata": {
            "tags": []
          },
          "execution_count": 4
        }
      ]
    },
    {
      "cell_type": "code",
      "metadata": {
        "id": "3gqbQbILursE",
        "colab_type": "code",
        "outputId": "e6511eb6-3788-4bdc-9e58-41d9e24c809a",
        "colab": {
          "base_uri": "https://localhost:8080/",
          "height": 34
        }
      },
      "source": [
        "#now to convert the Date from type 'object' to type 'datetime64(ns)'\n",
        "stocks.Date = stocks.Date.apply(pd.to_datetime)\n",
        "\n",
        "#subtracting max Date value with the min Date value\n",
        "stocks.Date.max() - stocks.Date.min()"
      ],
      "execution_count": 5,
      "outputs": [
        {
          "output_type": "execute_result",
          "data": {
            "text/plain": [
              "Timedelta('729 days 00:00:00')"
            ]
          },
          "metadata": {
            "tags": []
          },
          "execution_count": 5
        }
      ]
    },
    {
      "cell_type": "code",
      "metadata": {
        "id": "Ci8VEfA-yTfW",
        "colab_type": "code",
        "outputId": "e701397b-fecc-4f73-9bb2-b134a48d8fa5",
        "colab": {
          "base_uri": "https://localhost:8080/",
          "height": 136
        }
      },
      "source": [
        "#to view the if the changes have been reflected back in the dataframe \n",
        "stocks.dtypes"
      ],
      "execution_count": 6,
      "outputs": [
        {
          "output_type": "execute_result",
          "data": {
            "text/plain": [
              "Date                     datetime64[ns]\n",
              "Close Price                     float64\n",
              "Open Price                      float64\n",
              "High Price                      float64\n",
              "Low Price                       float64\n",
              "Total Traded Quantity            object\n",
              "dtype: object"
            ]
          },
          "metadata": {
            "tags": []
          },
          "execution_count": 6
        }
      ]
    },
    {
      "cell_type": "code",
      "metadata": {
        "id": "8fEImCG9z8M-",
        "colab_type": "code",
        "colab": {}
      },
      "source": [
        "#1.4 In a separate array , calculate the monthwise VWAP (Volume Weighted Average Price ) of the stock.\n",
        "#Converting Total Volume from object into float values\n",
        "if stocks['Total Traded Quantity'].dtype != 'float64':\n",
        "  stocks['Total Traded Quantity'] = stocks['Total Traded Quantity'].replace({'M': '*1e6'}, regex=True).map(pd.eval).astype(float)"
      ],
      "execution_count": 0,
      "outputs": []
    },
    {
      "cell_type": "code",
      "metadata": {
        "id": "9XGc_xafO97J",
        "colab_type": "code",
        "colab": {}
      },
      "source": [
        "#Extracting Months and Years\n",
        "stocks['Month'] = pd.DatetimeIndex(stocks['Date']).month\n",
        "stocks['Year'] = pd.DatetimeIndex(stocks['Date']).year\n",
        "group = stocks.groupby(['Month', 'Year'])\n",
        "\n",
        "#Calculating VWAP\n",
        "stocks['VWAP'] = (np.cumsum(stocks['Close Price'] * stocks['Total Traded Quantity']) / np.cumsum(stocks['Total Traded Quantity']))"
      ],
      "execution_count": 0,
      "outputs": []
    },
    {
      "cell_type": "code",
      "metadata": {
        "id": "862HIoq71YBO",
        "colab_type": "code",
        "colab": {
          "base_uri": "https://localhost:8080/",
          "height": 272
        },
        "outputId": "fdbe9eac-179a-4893-c650-fbe8369a38a7"
      },
      "source": [
        "#1.5 Calculation of average price and profit/loss \n",
        "def avgPrice(N):\n",
        "    res =  stocks['Close Price'].iloc[-N:]\n",
        "    return res.mean()\n",
        "print(\"Average prices for last N days are as follows:\")\n",
        "print(\"Last 1 week\",avgPrice(5))\n",
        "print(\"Last 2 weeks\",avgPrice(10))\n",
        "print(\"Last 1 month\",avgPrice(20))\n",
        "print(\"Last 3 months\",avgPrice(60))\n",
        "print(\"Last 6 months\",avgPrice(120))\n",
        "print(\"Last 1 year\",avgPrice(240))\n",
        "\n",
        "def profLoss(N):\n",
        "    diff = (stocks['Close Price'].tail(N).iloc[N-1] - stocks['Close Price'].tail(N).iloc[0])\n",
        "    if diff < 0 :\n",
        "        loss = -(diff)\n",
        "        loss_value = (loss/stocks['Close Price'].tail(N).iloc[N-1])*100\n",
        "        return loss_value\n",
        "    if diff > 0 :\n",
        "        profit = diff\n",
        "        profit_value = (profit/data['Close Price'].tail(N).iloc[N-1])*100\n",
        "        return profit_value\n",
        "\n",
        "print(\"\\nThe Profit/Loss is as follows: \")\n",
        "print(\"Last 1 week\",profLoss(5))\n",
        "print(\"Last 2 weeks\",profLoss(10))\n",
        "print(\"Last 1 month\",profLoss(20))\n",
        "print(\"Last 3 months\",profLoss(60))\n",
        "print(\"Last 6 months\",profLoss(120))\n",
        "print(\"Last 1 year\",profLoss(240))"
      ],
      "execution_count": 9,
      "outputs": [
        {
          "output_type": "stream",
          "text": [
            "Average prices for last N days are as follows:\n",
            "Last 1 week 43.278\n",
            "Last 2 weeks 45.001999999999995\n",
            "Last 1 month 45.27550000000001\n",
            "Last 3 months 44.897000000000006\n",
            "Last 6 months 46.95966666666663\n",
            "Last 1 year 48.83770833333332\n",
            "\n",
            "The Profit/Loss is as follows: \n",
            "Last 1 week 11.549779303580188\n",
            "Last 2 weeks 14.713094654242276\n",
            "Last 1 month 10.201078960274636\n",
            "Last 3 months 12.187346738597348\n",
            "Last 6 months 31.46150073565473\n",
            "Last 1 year 15.326140264835702\n"
          ],
          "name": "stdout"
        }
      ]
    },
    {
      "cell_type": "code",
      "metadata": {
        "id": "dpOfkF5P3Ao7",
        "colab_type": "code",
        "colab": {
          "base_uri": "https://localhost:8080/",
          "height": 419
        },
        "outputId": "b0832adf-43c0-4c76-fbd0-2a834c98ca40"
      },
      "source": [
        "#1.6 Calculation of daily change in percentages\n",
        "stocks['Day_Perc_Change'] = stocks['Close Price'].pct_change().fillna(0)\n",
        "stocks"
      ],
      "execution_count": 10,
      "outputs": [
        {
          "output_type": "execute_result",
          "data": {
            "text/html": [
              "<div>\n",
              "<style scoped>\n",
              "    .dataframe tbody tr th:only-of-type {\n",
              "        vertical-align: middle;\n",
              "    }\n",
              "\n",
              "    .dataframe tbody tr th {\n",
              "        vertical-align: top;\n",
              "    }\n",
              "\n",
              "    .dataframe thead th {\n",
              "        text-align: right;\n",
              "    }\n",
              "</style>\n",
              "<table border=\"1\" class=\"dataframe\">\n",
              "  <thead>\n",
              "    <tr style=\"text-align: right;\">\n",
              "      <th></th>\n",
              "      <th>Date</th>\n",
              "      <th>Close Price</th>\n",
              "      <th>Open Price</th>\n",
              "      <th>High Price</th>\n",
              "      <th>Low Price</th>\n",
              "      <th>Total Traded Quantity</th>\n",
              "      <th>Month</th>\n",
              "      <th>Year</th>\n",
              "      <th>VWAP</th>\n",
              "      <th>Day_Perc_Change</th>\n",
              "    </tr>\n",
              "  </thead>\n",
              "  <tbody>\n",
              "    <tr>\n",
              "      <th>0</th>\n",
              "      <td>2019-10-24</td>\n",
              "      <td>52.23</td>\n",
              "      <td>52.11</td>\n",
              "      <td>52.42</td>\n",
              "      <td>51.44</td>\n",
              "      <td>25650000.0</td>\n",
              "      <td>10</td>\n",
              "      <td>2019</td>\n",
              "      <td>52.230000</td>\n",
              "      <td>0.000000</td>\n",
              "    </tr>\n",
              "    <tr>\n",
              "      <th>1</th>\n",
              "      <td>2019-10-23</td>\n",
              "      <td>51.72</td>\n",
              "      <td>51.37</td>\n",
              "      <td>51.96</td>\n",
              "      <td>51.20</td>\n",
              "      <td>15960000.0</td>\n",
              "      <td>10</td>\n",
              "      <td>2019</td>\n",
              "      <td>52.034384</td>\n",
              "      <td>-0.009765</td>\n",
              "    </tr>\n",
              "    <tr>\n",
              "      <th>2</th>\n",
              "      <td>2019-10-22</td>\n",
              "      <td>52.01</td>\n",
              "      <td>51.90</td>\n",
              "      <td>52.32</td>\n",
              "      <td>51.89</td>\n",
              "      <td>13350000.0</td>\n",
              "      <td>10</td>\n",
              "      <td>2019</td>\n",
              "      <td>52.028461</td>\n",
              "      <td>0.005607</td>\n",
              "    </tr>\n",
              "    <tr>\n",
              "      <th>3</th>\n",
              "      <td>2019-10-21</td>\n",
              "      <td>52.13</td>\n",
              "      <td>51.52</td>\n",
              "      <td>52.17</td>\n",
              "      <td>51.34</td>\n",
              "      <td>13120000.0</td>\n",
              "      <td>10</td>\n",
              "      <td>2019</td>\n",
              "      <td>52.048029</td>\n",
              "      <td>0.002307</td>\n",
              "    </tr>\n",
              "    <tr>\n",
              "      <th>4</th>\n",
              "      <td>2019-10-18</td>\n",
              "      <td>51.36</td>\n",
              "      <td>51.75</td>\n",
              "      <td>51.82</td>\n",
              "      <td>51.03</td>\n",
              "      <td>16980000.0</td>\n",
              "      <td>10</td>\n",
              "      <td>2019</td>\n",
              "      <td>51.910682</td>\n",
              "      <td>-0.014771</td>\n",
              "    </tr>\n",
              "    <tr>\n",
              "      <th>...</th>\n",
              "      <td>...</td>\n",
              "      <td>...</td>\n",
              "      <td>...</td>\n",
              "      <td>...</td>\n",
              "      <td>...</td>\n",
              "      <td>...</td>\n",
              "      <td>...</td>\n",
              "      <td>...</td>\n",
              "      <td>...</td>\n",
              "      <td>...</td>\n",
              "    </tr>\n",
              "    <tr>\n",
              "      <th>498</th>\n",
              "      <td>2017-10-31</td>\n",
              "      <td>45.49</td>\n",
              "      <td>45.20</td>\n",
              "      <td>45.80</td>\n",
              "      <td>44.65</td>\n",
              "      <td>47000000.0</td>\n",
              "      <td>10</td>\n",
              "      <td>2017</td>\n",
              "      <td>48.752448</td>\n",
              "      <td>-0.026119</td>\n",
              "    </tr>\n",
              "    <tr>\n",
              "      <th>499</th>\n",
              "      <td>2017-10-30</td>\n",
              "      <td>44.37</td>\n",
              "      <td>44.48</td>\n",
              "      <td>45.19</td>\n",
              "      <td>43.88</td>\n",
              "      <td>48160000.0</td>\n",
              "      <td>10</td>\n",
              "      <td>2017</td>\n",
              "      <td>48.736542</td>\n",
              "      <td>-0.024621</td>\n",
              "    </tr>\n",
              "    <tr>\n",
              "      <th>500</th>\n",
              "      <td>2017-10-27</td>\n",
              "      <td>44.40</td>\n",
              "      <td>43.30</td>\n",
              "      <td>45.00</td>\n",
              "      <td>43.10</td>\n",
              "      <td>90030000.0</td>\n",
              "      <td>10</td>\n",
              "      <td>2017</td>\n",
              "      <td>48.707318</td>\n",
              "      <td>0.000676</td>\n",
              "    </tr>\n",
              "    <tr>\n",
              "      <th>501</th>\n",
              "      <td>2017-10-26</td>\n",
              "      <td>41.35</td>\n",
              "      <td>40.91</td>\n",
              "      <td>41.58</td>\n",
              "      <td>40.71</td>\n",
              "      <td>38250000.0</td>\n",
              "      <td>10</td>\n",
              "      <td>2017</td>\n",
              "      <td>48.686312</td>\n",
              "      <td>-0.068694</td>\n",
              "    </tr>\n",
              "    <tr>\n",
              "      <th>502</th>\n",
              "      <td>2017-10-25</td>\n",
              "      <td>40.78</td>\n",
              "      <td>40.89</td>\n",
              "      <td>41.05</td>\n",
              "      <td>40.49</td>\n",
              "      <td>24030000.0</td>\n",
              "      <td>10</td>\n",
              "      <td>2017</td>\n",
              "      <td>48.672157</td>\n",
              "      <td>-0.013785</td>\n",
              "    </tr>\n",
              "  </tbody>\n",
              "</table>\n",
              "<p>503 rows × 10 columns</p>\n",
              "</div>"
            ],
            "text/plain": [
              "          Date  Close Price  Open Price  ...  Year       VWAP  Day_Perc_Change\n",
              "0   2019-10-24        52.23       52.11  ...  2019  52.230000         0.000000\n",
              "1   2019-10-23        51.72       51.37  ...  2019  52.034384        -0.009765\n",
              "2   2019-10-22        52.01       51.90  ...  2019  52.028461         0.005607\n",
              "3   2019-10-21        52.13       51.52  ...  2019  52.048029         0.002307\n",
              "4   2019-10-18        51.36       51.75  ...  2019  51.910682        -0.014771\n",
              "..         ...          ...         ...  ...   ...        ...              ...\n",
              "498 2017-10-31        45.49       45.20  ...  2017  48.752448        -0.026119\n",
              "499 2017-10-30        44.37       44.48  ...  2017  48.736542        -0.024621\n",
              "500 2017-10-27        44.40       43.30  ...  2017  48.707318         0.000676\n",
              "501 2017-10-26        41.35       40.91  ...  2017  48.686312        -0.068694\n",
              "502 2017-10-25        40.78       40.89  ...  2017  48.672157        -0.013785\n",
              "\n",
              "[503 rows x 10 columns]"
            ]
          },
          "metadata": {
            "tags": []
          },
          "execution_count": 10
        }
      ]
    },
    {
      "cell_type": "code",
      "metadata": {
        "id": "rETqSpON4VXt",
        "colab_type": "code",
        "colab": {
          "base_uri": "https://localhost:8080/",
          "height": 419
        },
        "outputId": "c5ee9eb4-4759-42bc-eac8-f8ae3e9463a4"
      },
      "source": [
        "#1.7 Addition of column \"Trend\"\n",
        "if ((stocks['Day_Perc_Change'] >= -0.5) & (stocks['Day_Perc_Change'] <= 0.5)).all():\n",
        "    stocks['Trend'] = 'Slight or No change'\n",
        "if ((stocks['Day_Perc_Change'] >= 0.5) & (stocks['Day_Perc_Change'] <= 1)).all():\n",
        "    stocks['Trend'] = 'Slight positive'\n",
        "if ((stocks['Day_Perc_Change'] <= -0.5) & (stocks['Day_Perc_Change'] >= -1)).all():\n",
        "    stocks['Trend'] = 'Slight negative'\n",
        "if ((stocks['Day_Perc_Change'] >= 1) & (stocks['Day_Perc_Change'] <= 3)).all():\n",
        "    stocks['Trend'] = 'Positive' \n",
        "if ((stocks['Day_Perc_Change'] <= -1) & (stocks['Day_Perc_Change'] >= -3)).all():\n",
        "    stocks['Trend'] = 'Negative'\n",
        "if ((stocks['Day_Perc_Change'] >= 3) & (stocks['Day_Perc_Change'] <= 7)).all():\n",
        "    stocks['Trend'] = 'Among top gainers'\n",
        "if ((stocks['Day_Perc_Change'] <= -3) & (stocks['Day_Perc_Change'] >= -7)).all():\n",
        "    stocks['Trend'] = 'Among top losers'\n",
        "if (stocks['Day_Perc_Change'] > 7).all():\n",
        "    stocks['Trend'] = 'Bull run' \n",
        "if (stocks['Day_Perc_Change'] < -7).all():\n",
        "    stocks['Trend'] = 'Bear drop'\n",
        "stocks"
      ],
      "execution_count": 11,
      "outputs": [
        {
          "output_type": "execute_result",
          "data": {
            "text/html": [
              "<div>\n",
              "<style scoped>\n",
              "    .dataframe tbody tr th:only-of-type {\n",
              "        vertical-align: middle;\n",
              "    }\n",
              "\n",
              "    .dataframe tbody tr th {\n",
              "        vertical-align: top;\n",
              "    }\n",
              "\n",
              "    .dataframe thead th {\n",
              "        text-align: right;\n",
              "    }\n",
              "</style>\n",
              "<table border=\"1\" class=\"dataframe\">\n",
              "  <thead>\n",
              "    <tr style=\"text-align: right;\">\n",
              "      <th></th>\n",
              "      <th>Date</th>\n",
              "      <th>Close Price</th>\n",
              "      <th>Open Price</th>\n",
              "      <th>High Price</th>\n",
              "      <th>Low Price</th>\n",
              "      <th>Total Traded Quantity</th>\n",
              "      <th>Month</th>\n",
              "      <th>Year</th>\n",
              "      <th>VWAP</th>\n",
              "      <th>Day_Perc_Change</th>\n",
              "      <th>Trend</th>\n",
              "    </tr>\n",
              "  </thead>\n",
              "  <tbody>\n",
              "    <tr>\n",
              "      <th>0</th>\n",
              "      <td>2019-10-24</td>\n",
              "      <td>52.23</td>\n",
              "      <td>52.11</td>\n",
              "      <td>52.42</td>\n",
              "      <td>51.44</td>\n",
              "      <td>25650000.0</td>\n",
              "      <td>10</td>\n",
              "      <td>2019</td>\n",
              "      <td>52.230000</td>\n",
              "      <td>0.000000</td>\n",
              "      <td>Slight or No change</td>\n",
              "    </tr>\n",
              "    <tr>\n",
              "      <th>1</th>\n",
              "      <td>2019-10-23</td>\n",
              "      <td>51.72</td>\n",
              "      <td>51.37</td>\n",
              "      <td>51.96</td>\n",
              "      <td>51.20</td>\n",
              "      <td>15960000.0</td>\n",
              "      <td>10</td>\n",
              "      <td>2019</td>\n",
              "      <td>52.034384</td>\n",
              "      <td>-0.009765</td>\n",
              "      <td>Slight or No change</td>\n",
              "    </tr>\n",
              "    <tr>\n",
              "      <th>2</th>\n",
              "      <td>2019-10-22</td>\n",
              "      <td>52.01</td>\n",
              "      <td>51.90</td>\n",
              "      <td>52.32</td>\n",
              "      <td>51.89</td>\n",
              "      <td>13350000.0</td>\n",
              "      <td>10</td>\n",
              "      <td>2019</td>\n",
              "      <td>52.028461</td>\n",
              "      <td>0.005607</td>\n",
              "      <td>Slight or No change</td>\n",
              "    </tr>\n",
              "    <tr>\n",
              "      <th>3</th>\n",
              "      <td>2019-10-21</td>\n",
              "      <td>52.13</td>\n",
              "      <td>51.52</td>\n",
              "      <td>52.17</td>\n",
              "      <td>51.34</td>\n",
              "      <td>13120000.0</td>\n",
              "      <td>10</td>\n",
              "      <td>2019</td>\n",
              "      <td>52.048029</td>\n",
              "      <td>0.002307</td>\n",
              "      <td>Slight or No change</td>\n",
              "    </tr>\n",
              "    <tr>\n",
              "      <th>4</th>\n",
              "      <td>2019-10-18</td>\n",
              "      <td>51.36</td>\n",
              "      <td>51.75</td>\n",
              "      <td>51.82</td>\n",
              "      <td>51.03</td>\n",
              "      <td>16980000.0</td>\n",
              "      <td>10</td>\n",
              "      <td>2019</td>\n",
              "      <td>51.910682</td>\n",
              "      <td>-0.014771</td>\n",
              "      <td>Slight or No change</td>\n",
              "    </tr>\n",
              "    <tr>\n",
              "      <th>...</th>\n",
              "      <td>...</td>\n",
              "      <td>...</td>\n",
              "      <td>...</td>\n",
              "      <td>...</td>\n",
              "      <td>...</td>\n",
              "      <td>...</td>\n",
              "      <td>...</td>\n",
              "      <td>...</td>\n",
              "      <td>...</td>\n",
              "      <td>...</td>\n",
              "      <td>...</td>\n",
              "    </tr>\n",
              "    <tr>\n",
              "      <th>498</th>\n",
              "      <td>2017-10-31</td>\n",
              "      <td>45.49</td>\n",
              "      <td>45.20</td>\n",
              "      <td>45.80</td>\n",
              "      <td>44.65</td>\n",
              "      <td>47000000.0</td>\n",
              "      <td>10</td>\n",
              "      <td>2017</td>\n",
              "      <td>48.752448</td>\n",
              "      <td>-0.026119</td>\n",
              "      <td>Slight or No change</td>\n",
              "    </tr>\n",
              "    <tr>\n",
              "      <th>499</th>\n",
              "      <td>2017-10-30</td>\n",
              "      <td>44.37</td>\n",
              "      <td>44.48</td>\n",
              "      <td>45.19</td>\n",
              "      <td>43.88</td>\n",
              "      <td>48160000.0</td>\n",
              "      <td>10</td>\n",
              "      <td>2017</td>\n",
              "      <td>48.736542</td>\n",
              "      <td>-0.024621</td>\n",
              "      <td>Slight or No change</td>\n",
              "    </tr>\n",
              "    <tr>\n",
              "      <th>500</th>\n",
              "      <td>2017-10-27</td>\n",
              "      <td>44.40</td>\n",
              "      <td>43.30</td>\n",
              "      <td>45.00</td>\n",
              "      <td>43.10</td>\n",
              "      <td>90030000.0</td>\n",
              "      <td>10</td>\n",
              "      <td>2017</td>\n",
              "      <td>48.707318</td>\n",
              "      <td>0.000676</td>\n",
              "      <td>Slight or No change</td>\n",
              "    </tr>\n",
              "    <tr>\n",
              "      <th>501</th>\n",
              "      <td>2017-10-26</td>\n",
              "      <td>41.35</td>\n",
              "      <td>40.91</td>\n",
              "      <td>41.58</td>\n",
              "      <td>40.71</td>\n",
              "      <td>38250000.0</td>\n",
              "      <td>10</td>\n",
              "      <td>2017</td>\n",
              "      <td>48.686312</td>\n",
              "      <td>-0.068694</td>\n",
              "      <td>Slight or No change</td>\n",
              "    </tr>\n",
              "    <tr>\n",
              "      <th>502</th>\n",
              "      <td>2017-10-25</td>\n",
              "      <td>40.78</td>\n",
              "      <td>40.89</td>\n",
              "      <td>41.05</td>\n",
              "      <td>40.49</td>\n",
              "      <td>24030000.0</td>\n",
              "      <td>10</td>\n",
              "      <td>2017</td>\n",
              "      <td>48.672157</td>\n",
              "      <td>-0.013785</td>\n",
              "      <td>Slight or No change</td>\n",
              "    </tr>\n",
              "  </tbody>\n",
              "</table>\n",
              "<p>503 rows × 11 columns</p>\n",
              "</div>"
            ],
            "text/plain": [
              "          Date  Close Price  ...  Day_Perc_Change                Trend\n",
              "0   2019-10-24        52.23  ...         0.000000  Slight or No change\n",
              "1   2019-10-23        51.72  ...        -0.009765  Slight or No change\n",
              "2   2019-10-22        52.01  ...         0.005607  Slight or No change\n",
              "3   2019-10-21        52.13  ...         0.002307  Slight or No change\n",
              "4   2019-10-18        51.36  ...        -0.014771  Slight or No change\n",
              "..         ...          ...  ...              ...                  ...\n",
              "498 2017-10-31        45.49  ...        -0.026119  Slight or No change\n",
              "499 2017-10-30        44.37  ...        -0.024621  Slight or No change\n",
              "500 2017-10-27        44.40  ...         0.000676  Slight or No change\n",
              "501 2017-10-26        41.35  ...        -0.068694  Slight or No change\n",
              "502 2017-10-25        40.78  ...        -0.013785  Slight or No change\n",
              "\n",
              "[503 rows x 11 columns]"
            ]
          },
          "metadata": {
            "tags": []
          },
          "execution_count": 11
        }
      ]
    },
    {
      "cell_type": "code",
      "metadata": {
        "id": "okAI7H1951iF",
        "colab_type": "code",
        "colab": {
          "base_uri": "https://localhost:8080/",
          "height": 102
        },
        "outputId": "4093134d-c240-4ca9-aa83-415583007f0b"
      },
      "source": [
        "#1.8 Calculation of average and median values of 'Total Traded Quantity' for each types of 'Trend'\n",
        "AvgMedian = {'Average':stocks.groupby(stocks.Trend).mean()['Total Traded Quantity'],'Median':stocks.groupby(stocks.Trend).median()['Total Traded Quantity']}\n",
        "print(AvgMedian)"
      ],
      "execution_count": 12,
      "outputs": [
        {
          "output_type": "stream",
          "text": [
            "{'Average': Trend\n",
            "Slight or No change    2.668302e+07\n",
            "Name: Total Traded Quantity, dtype: float64, 'Median': Trend\n",
            "Slight or No change    23800000.0\n",
            "Name: Total Traded Quantity, dtype: float64}\n"
          ],
          "name": "stdout"
        }
      ]
    },
    {
      "cell_type": "code",
      "metadata": {
        "id": "CWIwlwHQ7OzF",
        "colab_type": "code",
        "colab": {}
      },
      "source": [
        "#1.9 Saving dataframe with revised columns to week2.csv\n",
        "stocks.to_csv(\"week2.csv\")"
      ],
      "execution_count": 0,
      "outputs": []
    }
  ]
}